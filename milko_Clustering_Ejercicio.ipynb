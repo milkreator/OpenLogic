{
  "nbformat": 4,
  "nbformat_minor": 0,
  "metadata": {
    "colab": {
      "provenance": [],
      "include_colab_link": true
    },
    "language_info": {
      "codemirror_mode": {
        "name": "ipython",
        "version": 3
      },
      "file_extension": ".py",
      "mimetype": "text/x-python",
      "name": "python",
      "nbconvert_exporter": "python",
      "pygments_lexer": "ipython3",
      "version": "3.5.2"
    },
    "kernelspec": {
      "display_name": "Python [default]",
      "language": "python",
      "name": "python3"
    }
  },
  "cells": [
    {
      "cell_type": "markdown",
      "metadata": {
        "id": "view-in-github",
        "colab_type": "text"
      },
      "source": [
        "<a href=\"https://colab.research.google.com/github/milkreator/OpenLogic/blob/master/milko_Clustering_Ejercicio.ipynb\" target=\"_parent\"><img src=\"https://colab.research.google.com/assets/colab-badge.svg\" alt=\"Open In Colab\"/></a>"
      ]
    },
    {
      "cell_type": "markdown",
      "metadata": {
        "id": "GCUiKq9pmLEC"
      },
      "source": [
        "# Ejercicio en clase: Clustering\n",
        "\n",
        "*(Traducido y adaptado del curso \"Machine Learning\" de Andrew NG)*\n",
        "\n",
        "Este ejercicio tiene como objetivos:\n",
        "\n",
        "* Implementar el algoritmo de clustering k-means\n",
        "* Aplicar k-means en la compresión de una imagen"
      ]
    },
    {
      "cell_type": "markdown",
      "metadata": {
        "id": "5TaO8yV3mLEE"
      },
      "source": [
        "## Implementación de k-means\n",
        "\n",
        "El algoritmo de k-means es un método para agrupar automáticamente ejemplos de datos semejantes. Concretamente, se tiene un set $\\{x^{(1)}, ..., x^{(m)}\\}$ donde $x^{(i)} \\in \\mathbb{R}^n$, y se desea agrupar los datos en unos pocos \"clusters\" compactos. La intuición subyacente a k-means es un procedimiento iterativo que empieza por suponer los centroides iniciales, y luego refina la suposición asignando los ejemplos a sus centroides más cercanos y recalculando los centroides a partir de las asignaciones.\n",
        "\n",
        "El algoritmo k-means es como sigue:\n",
        "\n",
        "```python\n",
        "# Inicializar centroides\n",
        "centroids = kMeansInitCentroids(X, K)\n",
        "\n",
        "for i in range(iterations):\n",
        "    # Paso 1 - Asignación a clusters: Asignar cada punto de datos\n",
        "    # al centroide más cercano. idx es un vector de asignación a\n",
        "    # centroides, donde idx(i) es c^(i), es decir, el índice del\n",
        "    # centroide asignado al ejemplo i.\n",
        "    # idx(i) corresponde a\n",
        "    idx = findClosestCentroids(X, centroids)\n",
        "    \n",
        "    # Paso 2 - Mover los centroides: Calcular la media de los puntos\n",
        "    # asignados a cada centroide\n",
        "    centroids = computeMeans(X, idx, K)\n",
        "```\n",
        "\n",
        "El bucle interno del algoritmo realiza repetidamente dos pasos: (i) Asignar cada ejemplo de entrenamiento $x^{(i)}$ a su centroide más cercano, y (ii) Recalcular la media de cada centroide usando los puntos que le han sido asignados. El algoritmo k-means siempre convergerá a algún conjunto final de medias para los centroides. Ten en cuenta que la solución obtenida no siempre será la idea y depende de la configuración inicial de los centroides. Por lo tanto, en la práctica el algoritmo k-means es usualmente ejecutado varias veces con diferentes inicializaciones aleatorias. Una manera de escoger entre estas diferentes solcucones de diferentes inicializaciones aleatorias es escoger aquella que tenga un menor valor para la función de costo (distorsión).\n",
        "\n",
        "En las siguientes dos secciones vas a implementar en dos fases el algoritmo de k-means.\n",
        "\n",
        "### Encontrar los centroides más cercanos\n",
        "\n",
        "En la fase de \"asignación a clusters\" del algoritmo k-means, el algoritmo asigna cada ejemplo de entrenamiento $x^{(i)}$ a su centroide más cercano, dada la posición actual de los centroides. Específicamente, para cada ejemplo $i$ asignamos:\n",
        "\n",
        "$x^{(i)} := j$ que minimice $||x^{(i)} - \\mu_j||^2$\n",
        "\n",
        "donde $c^{(i)}$ es el índice del centroide más cercano a $x^{(i)}$, y $\\mu_j$ es la posición (valor) del centroide del cluster $j$. Ten en cuenta que $c^{(i)}$ corresponde a `idx(i)` en el código.\n",
        "\n",
        "Tu tarea es completar el código en la función `findClosestCentroids`. Esta función toma la matriz de datos X y la ubicación de todos los centroides dentro de `centroids` y debe retornar un arreglo unidimensional `idx` que contenga el índice (un valor en $\\{0, ..., K-1\\}$, donde $K$ es el número total de centroides) del centroide más cercano a cada ejemplo de entrenamiento.\n",
        "\n",
        "Puedes implementar la función realizando un bucle que recorra cada ejemplo de entrenamiento y cada centroide."
      ]
    },
    {
      "cell_type": "code",
      "source": [
        "import numpy as np\n",
        "from scipy.io import loadmat"
      ],
      "metadata": {
        "id": "F54lxL1kvV-8"
      },
      "execution_count": 1,
      "outputs": []
    },
    {
      "cell_type": "code",
      "source": [
        "exdata2 = loadmat('ex7data2.mat')\n",
        "X = np.array(exdata2['X'])"
      ],
      "metadata": {
        "id": "GKbu2NRIvYj6"
      },
      "execution_count": 5,
      "outputs": []
    },
    {
      "cell_type": "code",
      "metadata": {
        "id": "CwWoSe8nmLEF"
      },
      "source": [
        "import numpy as np\n",
        "from scipy.io import loadmat\n",
        "\n",
        "\n",
        "def findClosestCentroids(X, centroids):\n",
        "\n",
        "    # Calculamos el número de centroides K\n",
        "    K = centroids.shape[0]\n",
        "\n",
        "    # Calculamos el número de ejemplos m\n",
        "    m = X.shape[0]\n",
        "\n",
        "    # Tienes que devolver el valor correcto de idx. Lo inicializamos en cero.\n",
        "    idx = np.zeros(m, dtype=int)\n",
        "\n",
        "    # ====================== COMPLETA TU CÓDIGO ABAJO ======================\n",
        "    # Instrucciones: Recorre cada ejemplo, encuentra su centroide más cercano,\n",
        "    # y almacena el índice en la ubicación correcta de idx. Específicamente,\n",
        "    # idx es un vector de dimensiones m x 1, donde idx(i) debe contener el índice\n",
        "    # del centroide más cercano al ejemplo i. Por lo tanto, debe contener valores\n",
        "    # en el rango 0...(K-1)\n",
        "    #\n",
        "    # Nota: Puedes usar bucles 'for'\n",
        "\n",
        "    for i in range(m):\n",
        "        distances = np.linalg.norm(X[i] - centroids, axis=1)\n",
        "        idx[i] = np.argmin(distances)\n",
        "\n",
        "    # =============================================================\n",
        "\n",
        "    return idx\n",
        "\n",
        "\n",
        "\n",
        "\n",
        "\n",
        "\n",
        ""
      ],
      "execution_count": 7,
      "outputs": []
    },
    {
      "cell_type": "markdown",
      "metadata": {
        "id": "nlO788CamLEK"
      },
      "source": [
        "Ahora ejecuta el siguiente código para probar la función `findClosestCentroids` que has implementado:"
      ]
    },
    {
      "cell_type": "code",
      "metadata": {
        "id": "i7TT-rSzmLEL",
        "colab": {
          "base_uri": "https://localhost:8080/"
        },
        "outputId": "0576121e-b8a3-46e0-f484-dd9b01128f94"
      },
      "source": [
        "print('Encontrando los centroides más cercanos... \\n');\n",
        "\n",
        "# Cargar el conjunto de datos que usaremos\n",
        "exdata2 = loadmat('ex7data2.mat')\n",
        "X = np.array(exdata2['X'])\n",
        "\n",
        "# Seleccionar un conjunto inicial de centroides\n",
        "K = 3  # 3 centroides\n",
        "initial_centroids =  np.array([(3., 3.), (6., 2.), (8., 5.)])\n",
        "\n",
        "# Encontrar los centroides iniciales más cercanos a los ejemplos\n",
        "idx = findClosestCentroids(X, initial_centroids)\n",
        "\n",
        "print('Centroides más cercanos a los primeros 3 ejemplos: ', idx[0:3])\n",
        "print('(los centroides más cercanos deberían ser 0, 2 y 1, respectivamente)\\n');\n"
      ],
      "execution_count": 10,
      "outputs": [
        {
          "output_type": "stream",
          "name": "stdout",
          "text": [
            "Encontrando los centroides más cercanos... \n",
            "\n",
            "Centroides más cercanos a los primeros 3 ejemplos:  [0 2 1]\n",
            "(los centroides más cercanos deberían ser 0, 2 y 1, respectivamente)\n",
            "\n"
          ]
        }
      ]
    },
    {
      "cell_type": "markdown",
      "metadata": {
        "id": "hwqlSHG0mLEP"
      },
      "source": [
        "**Pregunta 1:** ¿Cuál es el índice de los centroides más cercanos a los 3 *últimos* ejemplos?"
      ]
    },
    {
      "cell_type": "code",
      "source": [
        "\n",
        "idx = findClosestCentroids(X, centroids)\n",
        "\n",
        "idx_last_3 = idx[-3:]\n",
        "\n",
        "print(\"Índices de los centroides más cercanos a los 3 últimos ejemplos:\", idx_last_3)"
      ],
      "metadata": {
        "colab": {
          "base_uri": "https://localhost:8080/",
          "height": 211
        },
        "id": "M5qBoW9eYhs5",
        "outputId": "82d30bd8-a369-46c8-b8cd-536949a975d8"
      },
      "execution_count": 11,
      "outputs": [
        {
          "output_type": "error",
          "ename": "NameError",
          "evalue": "name 'centroids' is not defined",
          "traceback": [
            "\u001b[0;31m---------------------------------------------------------------------------\u001b[0m",
            "\u001b[0;31mNameError\u001b[0m                                 Traceback (most recent call last)",
            "\u001b[0;32m<ipython-input-11-d5636369010d>\u001b[0m in \u001b[0;36m<cell line: 1>\u001b[0;34m()\u001b[0m\n\u001b[0;32m----> 1\u001b[0;31m \u001b[0midx\u001b[0m \u001b[0;34m=\u001b[0m \u001b[0mfindClosestCentroids\u001b[0m\u001b[0;34m(\u001b[0m\u001b[0mX\u001b[0m\u001b[0;34m,\u001b[0m \u001b[0mcentroids\u001b[0m\u001b[0;34m)\u001b[0m\u001b[0;34m\u001b[0m\u001b[0;34m\u001b[0m\u001b[0m\n\u001b[0m\u001b[1;32m      2\u001b[0m \u001b[0;34m\u001b[0m\u001b[0m\n\u001b[1;32m      3\u001b[0m \u001b[0midx_last_3\u001b[0m \u001b[0;34m=\u001b[0m \u001b[0midx\u001b[0m\u001b[0;34m[\u001b[0m\u001b[0;34m-\u001b[0m\u001b[0;36m3\u001b[0m\u001b[0;34m:\u001b[0m\u001b[0;34m]\u001b[0m\u001b[0;34m\u001b[0m\u001b[0;34m\u001b[0m\u001b[0m\n\u001b[1;32m      4\u001b[0m \u001b[0;34m\u001b[0m\u001b[0m\n\u001b[1;32m      5\u001b[0m \u001b[0mprint\u001b[0m\u001b[0;34m(\u001b[0m\u001b[0;34m\"Índices de los centroides más cercanos a los 3 últimos ejemplos:\"\u001b[0m\u001b[0;34m,\u001b[0m \u001b[0midx_last_3\u001b[0m\u001b[0;34m)\u001b[0m\u001b[0;34m\u001b[0m\u001b[0;34m\u001b[0m\u001b[0m\n",
            "\u001b[0;31mNameError\u001b[0m: name 'centroids' is not defined"
          ]
        }
      ]
    },
    {
      "cell_type": "code",
      "metadata": {
        "id": "uwTegS4fmLER"
      },
      "source": [
        "print('Centroides más cercanos a los últimos 3 ejemplos: ', ...)"
      ],
      "execution_count": null,
      "outputs": []
    },
    {
      "cell_type": "markdown",
      "metadata": {
        "id": "tlF1QKp9mLEU"
      },
      "source": [
        "### Recalcular la posición de los centroides\n",
        "\n",
        "Luego de asignar cada punto a un centroide, la segunda fase del algoritmo recalcula, para cada centroide, la media de los puntos que le fueron asignados. Específicamente, para cada centroide $k$, establecemos\n",
        "\n",
        "$\\mu_k := \\frac{1}{|C_k|} \\sum\\limits_{i \\in C_k} x^{(i)}$\n",
        "\n",
        "donde $|C_k|$ es el conjunto de ejemplos que fueron asignados al centroide $k$. Específicamente, si sólo dos ejemplos, digamos $x^{(3)}$ y $x^{(5)}$, son asignados al centroide $k =2$, entonces, deberías actualizar $\\mu_2 = \\frac{1}{2} (x^{(3)} + x^{(5)})$.\n",
        "\n",
        "Ahora debes completar el código en la función `computeCentroids`. Luego ejecuta el siguiente bloque de código para calcular los centroides después del primer paso de k-means."
      ]
    },
    {
      "cell_type": "code",
      "metadata": {
        "id": "UjDJtcUbmLEV"
      },
      "source": [
        "def computeCentroids(X, idx, K):\n",
        "\n",
        "    # Calculamos el número de ejemplos m y el número de características n\n",
        "    (m, n) = X.shape\n",
        "\n",
        "    # Tienes que devolver el valor correcto de cada centroide. Los inicializamos en cero.\n",
        "    centroids = np.zeros((K, n))\n",
        "\n",
        "    # ====================== COMPLETA TU CÓDIGO ABAJO ======================\n",
        "    # Instrucciones: Recorre cada centroide y calcula la media de todos los puntos\n",
        "    # que le han sido asignados. Especificamente, el vector fila centroids[i]\n",
        "    # debe contener la media de los puntos de datos asignados al centroide i.\n",
        "    #\n",
        "    # Nota 1: Puedes usar bucles 'for'\n",
        "    # Nota 2: X[idx == 2] es el subconjunto de puntos de datos asignados al centroide 2.\n",
        "    # Nota 3: Se puede calcular la media con la función numpy.mean(). No olvidar asignar\n",
        "    #         el parámetro axis=0 para calcular la media de las filas.\n",
        "    #\n",
        "\n",
        "\n",
        "    # =============================================================\n",
        "\n",
        "    return centroids"
      ],
      "execution_count": null,
      "outputs": []
    },
    {
      "cell_type": "code",
      "metadata": {
        "id": "5TgGe2vsmLEZ"
      },
      "source": [
        "print('Recalculando la posición de los centroides... \\n');\n",
        "\n",
        "# Recalcular los centroides a partir de las asignaciones realizadas en el paso anterior\n",
        "centroids = computeCentroids(X, idx, K)\n",
        "\n",
        "print('Centroides calculados después de encontrar reasignar los puntos al centroide más cercano:')\n",
        "print(centroids)\n",
        "\n",
        "print('\\n(Los dos primeros centroides deberían ser:')\n",
        "print('[[ 2.42830111  3.15792418]')\n",
        "print(' [ 5.81350331  2.63365645]] )')"
      ],
      "execution_count": null,
      "outputs": []
    },
    {
      "cell_type": "markdown",
      "metadata": {
        "id": "KV1Bz0qKmLEc"
      },
      "source": [
        "**Pregunta 2:** ¿Cuál es la posición del último centroide?"
      ]
    },
    {
      "cell_type": "code",
      "metadata": {
        "id": "gCyauIZimLEd"
      },
      "source": [],
      "execution_count": null,
      "outputs": []
    },
    {
      "cell_type": "markdown",
      "metadata": {
        "id": "L_u0sOmymLEg"
      },
      "source": [
        "### Ejecutar k-means en el conjunto de datos\n",
        "\n",
        "Después que has completado las dos funciones (`findClosestCentroids` y `computeCentroids`), vamos a ejecutar el algoritmo k-means en este conjunto de datos 2D para que puedas apreciar cómo funciona k-means. Hemos preparado una función `runkMeans` que invoca a tus funciones. Te recomendamos que eches un vistazo a la función `runkMeans` para que entiendas cómo trabaja. Observa que el código invoca las funciones que implementaste dentro de un bucle. Cuando ejecutes el siguiente paso, el código de k-means producirá una visualización que muestra el progreso del algoritmo en cada iteración.\n",
        "\n",
        "Presiona `Intro` múltiples veces para ver cómo cada paso del algoritmo k-means cambian tanto los centroides como la asignación a clusters (colores)."
      ]
    },
    {
      "cell_type": "code",
      "metadata": {
        "id": "6lHkZwqemLEh"
      },
      "source": [
        "import matplotlib.pyplot as plt\n",
        "%matplotlib inline\n",
        "plt.style.use('ggplot')\n",
        "\n",
        "def runkMeans(X, initial_centroids, max_iters, plot_progress=False):\n",
        "\n",
        "    # Inicializar los valores\n",
        "    (m, n) = X.shape\n",
        "    K = initial_centroids.shape[0]\n",
        "    centroids = initial_centroids\n",
        "    idx = np.zeros(m, dtype=int)\n",
        "\n",
        "    # Llevaremos un historial de los centroides por cada cluster y cada iteración\n",
        "    centroids_history = np.zeros((K, max_iters + 1, n))\n",
        "    centroids_history[:,0] = initial_centroids\n",
        "\n",
        "    # Ejecutar k-means\n",
        "    for i in range(max_iters):\n",
        "\n",
        "        # Estatus de avance\n",
        "        print('Iteración de k-means %d/%d...' % ((i+1), max_iters))\n",
        "\n",
        "        # Asignar cada de ejemplo en X a su centroide más cercano\n",
        "        idx = findClosestCentroids(X, centroids)\n",
        "\n",
        "        # Opcionalmente, mostrar diagrama con avance\n",
        "        if plot_progress:\n",
        "            centroids_history[:,i] = centroids\n",
        "            plotProgresskMeans(X, centroids, centroids_history, idx, K, i)\n",
        "            input('Presiona Intro para continuar.')\n",
        "\n",
        "        # Calcular los nuevos centroides luego de las asignaciones a clusters\n",
        "        centroids = computeCentroids(X, idx, K)\n",
        "\n",
        "    return (centroids, idx)"
      ],
      "execution_count": null,
      "outputs": []
    },
    {
      "cell_type": "code",
      "metadata": {
        "id": "5IeXhClkmLEn"
      },
      "source": [
        "def plotProgresskMeans(X, centroids, centroids_history, idx, K, i):\n",
        "\n",
        "    plt.title('Iteración #%d' % (i+1) )\n",
        "\n",
        "    # Dibujar los ejemplos del conjunto de datos\n",
        "    plt.scatter(X[:,0], X[:,1], c=idx, cmap='prism')\n",
        "\n",
        "    # Dibujar el avance desde los centroides iniciales\n",
        "    for j in range(K):\n",
        "        plt.plot(centroids_history[j, 0:(i+1), 0], centroids_history[j, 0:(i+1), 1], '-', c='gray')\n",
        "        plt.scatter(centroids_history[j, 0:i, 0], centroids_history[j, 0:i, 1], marker='d', c='gray')\n",
        "\n",
        "    # Dibujar los centroides\n",
        "    plt.scatter(centroids[:,0], centroids[:,1], c='k', marker='x')\n",
        "\n",
        "    plt.show()\n",
        "\n",
        "    return"
      ],
      "execution_count": null,
      "outputs": []
    },
    {
      "cell_type": "code",
      "metadata": {
        "id": "6LsJ3Md8mLEu"
      },
      "source": [
        "print('Ejecutando clustering de k-means en el conjunto de datos... \\n');\n",
        "\n",
        "# Cargar el conjunto de datos\n",
        "exdata2 = loadmat('ex7data2.mat')\n",
        "X = np.array(exdata2['X'])\n",
        "\n",
        "# Parámetros de k-means\n",
        "K = 3\n",
        "max_iters = 10\n",
        "\n",
        "# Por consistencia, configuramos acá unos valores específico pero en la práctica\n",
        "# habrá que generarlos automáticamente de manera aleatoria, como se verá más\n",
        "# adelante en kMeansInitCentroids\n",
        "initial_centroids =  np.array([(3., 3.), (6., 2.), (8., 5.)])\n",
        "\n",
        "# Ejecutar el algoritmo k-means\n",
        "(centroids, idx) = runkMeans(X, initial_centroids, max_iters, plot_progress=True)\n",
        "print('\\nFin de ejecución de k-means.')"
      ],
      "execution_count": null,
      "outputs": []
    },
    {
      "cell_type": "markdown",
      "metadata": {
        "id": "bkZCFQmFmLEy"
      },
      "source": [
        "### Inicialización aleatoria\n",
        "\n",
        "Las asignaciones iniciales de los centroides para el ejemplo anterior fueron diseñadas para que todos tengamos los mismos resultados. En la práctica, una mejor estrategia para inicializar los centroides es seleccionar ejemplos aleatorios del conjunto de entrenamiento.\n",
        "\n",
        "Definamos una función que nos permita inicializar los centroides a partir de ejemplos aleatorios del conjunto de datos."
      ]
    },
    {
      "cell_type": "code",
      "metadata": {
        "id": "Gsp2jjZ5mLEz"
      },
      "source": [
        "from numpy.random import permutation\n",
        "\n",
        "def kMeansInitCentroids(X, K):\n",
        "\n",
        "    # Calcular el número de ejemplos\n",
        "    m = X.shape[0]\n",
        "\n",
        "    # Reordernar aleatoriamente los índices de los ejemplos\n",
        "    randidx = permutation(m)\n",
        "\n",
        "    # Tomar los primeros K ejemplos como centroides\n",
        "    centroids = X[randidx[0:K]]\n",
        "\n",
        "    return centroids"
      ],
      "execution_count": null,
      "outputs": []
    },
    {
      "cell_type": "markdown",
      "metadata": {
        "id": "8NGB5iX0mLE3"
      },
      "source": [
        "El código de arriba empieza por permutar aleatoriamente los índices de los ejemplo (usando `numpy.random.permutation`). Luego selecciona los primeros `K` ejemplos basados en la permutación aleatoria de los índices. Esto permite seleccionar los ejemplos aleatoriamente sin riesgo de seleccionar dos veces el mismo ejemplo.\n",
        "\n",
        "## Compresión de imágenes usando k-means\n",
        "\n",
        "![](macaw_small.jpg)\n",
        "*Imagen original 256x256 pixels, 24 bits de color.*\n",
        "*Fuente: https://pixabay.com/p-943228/?no_redirect *\n",
        "\n",
        "En este ejercicio, aplicarás k-means a una tarea de compresión de imágenes. Usualmente, cuando una imagen es representada con 24 bits de color, cada pixel corresponde a tres enteros de 8 bits sin signo (con valores entre 0 y 255), que especifican los valores de intensidad de rojo, verde y azul. Esta codificación es conocida como codificación RGB. Nuestra imagen contiene miles de colores, y en esta parte del ejercicio, vas a reducir el número de colores a 16 colores.\n",
        "\n",
        "Haciendo esta reducción, es posible representar (comprimir) la foto de una manear eficiente. Específicamente, sólo necesitas almacenar los valores RGB de los 16 colores seleccionados, y para cada pixel en la imagen sólo necesitas almacenar el índice el color en esa ubicación (donde sólo se requiere 4 bits para representar 16 posibilidades).\n",
        "\n",
        "En este ejercicio, usarás el algoritmo k-means para seleccionar los 16 colores que serán usados para representar la imagen comprimida. En particular, tratarás cada pixel de la imagen original como un ejemplo de un conjunto de datos, y usarás el algoritmo k-means para encontrar los 16 colores que mejor agrupan (cluster) los pixels en el espacio RGB, de tres dimensiones. Una vez que hayas calculado los centroides de cada cluster en la imagen, usaras los 16 colores para reemplazar los pixels en la imagen original.\n",
        "\n",
        "### k-means para pixeles\n",
        "\n",
        "En Python, se puede leer imágenes con el siguiente comando:\n",
        "\n",
        "```python\n",
        "import imageio\n",
        "A = imageio.imread('imagen.png')\n",
        "```\n",
        "\n",
        "Esto crea una matrix tridimensional A cuyos dos primeros índices identifican la posición del pixel y cuyo último índice representa rojo, verde o  azul. Por ejemplo, `A[50, 33, 3]` es la intensidad de azul del pixel en la fila 50 y columna 33.\n",
        "\n",
        "El código a continuación empieza por cargar la imagen, luego la transforma en una matrix de `m x 3` pixels a color (donde `m = 65536 = 256 x 256`), y luego invoca tu función k-means."
      ]
    },
    {
      "cell_type": "code",
      "metadata": {
        "id": "M44bB5T4mLE4"
      },
      "source": [
        "print('Ejecutando clustering de k-means en los pixels de una imagen... \\n');\n",
        "\n",
        "# Cargar la imagen de un guacamayo\n",
        "import imageio\n",
        "\n",
        "# Cargar la imagen y convertirla en un arreglo numpy\n",
        "A = imageio.imread('loro.jpg')\n",
        "A = np.asarray(A, dtype=float)\n",
        "\n",
        "# Dividir entre 255 para que los valores estén en el rango 0 - 1\n",
        "A = A / 255\n",
        "\n",
        "# Tamaño de la imagen\n",
        "img_size = A.shape\n",
        "\n",
        "# Convertir la imagen en una matrix N x 3, donde N = número de pixels.\n",
        "# Cada fila contiene los valores de Rojo, Verde y Azul\n",
        "# Esto nos da la matriz del conjunto de datos X que usaremos con k-means\n",
        "X = A.reshape((img_size[0] * img_size[1], 3))\n",
        "\n",
        "# Ejecuta tu algoritmo k-means en estos datos\n",
        "# Prueba con diferentes valores de K y max_iters\n",
        "K = 16\n",
        "max_iters = 10\n",
        "\n",
        "# Cuando se usa k-means, es importante inicializar aleatoriamente los centroides\n",
        "# Usaremos la función kMeansInitCentroids\n",
        "initial_centroids = kMeansInitCentroids(X, K)\n"
      ],
      "execution_count": null,
      "outputs": []
    },
    {
      "cell_type": "code",
      "source": [
        "X.shape"
      ],
      "metadata": {
        "id": "_sjC1E5u7F71"
      },
      "execution_count": null,
      "outputs": []
    },
    {
      "cell_type": "code",
      "source": [
        "# Ejecutar k-means\n",
        "(centroids, idx) = runkMeans(X, initial_centroids, max_iters)"
      ],
      "metadata": {
        "id": "XILZBlKn65a-"
      },
      "execution_count": null,
      "outputs": []
    },
    {
      "cell_type": "markdown",
      "metadata": {
        "id": "etX4a6PTmLE7"
      },
      "source": [
        "### Compresión de la imagen\n",
        "\n",
        "Después de encontrar los `K = 16` colores que mejor representan la imagen, puedes ahora asignar cada pixel a su centroide más cercano usando la función `findClosestCentroids`. Esto te permitirá representar la imagen original usando las asignaciones de centroide de cada pixel. Observa que con ello has reducido significativamente el número de bits requeridos para describir la imagen. La imagen original requería 24 bits para cada uno de las 256 x 256 ubicaciones de pixel, resultando en un total de 256 x 256 x 24 = 1'572,864 bits. La nueva representación requiere almacenar un diccionario de 16 colores, cada uno de los cuales requiere 24 bits, pero la imagen en sí sólo requiere 4 bits por pixel. El número total de bits usado es por lo tanto 16 x 24 + 256 x 256 x 4 = 262,528 bits, lo cual significa una compresión de la imagen original por un factor de 6.\n",
        "\n",
        "Finalmente, puedes ver los efectos de la compresión reconstruyendo la imagen basada solamente en la asignación de centroides. Específicamente, puedes reemplazar cada pixel con el valor del centroide al que ha sido asignado. Aunque la imagen resultante retiene la mayoría de características de la original, podemos observar algunos efectos de la compresión."
      ]
    },
    {
      "cell_type": "code",
      "metadata": {
        "id": "kMYqn7HUmLE8"
      },
      "source": [
        "print('Aplicando k-means para comprimir una imagen... \\n');\n",
        "\n",
        "# Encontrar los centroides más cercanos a cada pixel\n",
        "idx = findClosestCentroids(X, centroids)\n",
        "\n",
        "# Esencialmente, hemos representado la imagen X en función\n",
        "# de los índices en idx\n",
        "\n",
        "# Ahora podemos recuperar la imagen a partir de los índices (idx)\n",
        "# mapeando cada pixel (identificado con su índice en idx) al valor\n",
        "# de su centroide\n",
        "X_recovered = centroids[idx]\n",
        "\n",
        "# Transformar la imagen recuperada en sus dimensiones originales\n",
        "X_recovered = X_recovered.reshape((img_size[0], img_size[1], 3))\n",
        "\n",
        "# Mostrar la imagen original y la recuperada\n",
        "f, (ax1, ax2) = plt.subplots(1, 2)\n",
        "ax1.axis('off')\n",
        "ax1.imshow(A)\n",
        "ax1.set_title('Original')\n",
        "ax2.axis('off')\n",
        "ax2.imshow(X_recovered)\n",
        "ax2.set_title('Comprimida, con %d colores' % K)\n"
      ],
      "execution_count": null,
      "outputs": []
    },
    {
      "cell_type": "markdown",
      "metadata": {
        "id": "hxSSRIicmLE_"
      },
      "source": [
        "### Opcional: Usa tu propia imagen\n",
        "\n",
        "Modifica el código que hemos provisto y úsalo en una imagen de tu elección. Ten en cuenta que si la imagen es muy grande, k-means puede tomar mucho tiempo en ejecutarse. Por lo tanto, te recomendamos que reduzcas el tamaño de tu imagen o uses una imagen de un tamaño manejable antes de ejecutar el código. También puedes variar K para ver los efectos de la compresión."
      ]
    },
    {
      "cell_type": "code",
      "metadata": {
        "id": "tbJY3i09mLFB"
      },
      "source": [],
      "execution_count": null,
      "outputs": []
    },
    {
      "cell_type": "markdown",
      "metadata": {
        "id": "CMEBSw2PmLFE"
      },
      "source": [
        "### Opcional: Compara con la implementación de `scikit-learn`\n",
        "\n",
        "Si lo deseas, compara los resultados de tu implementación con la que viene en scikit-learn y visualiza la imagen resultante al lado de la que comprimiste con nuestra implementación. El código para correr k-means sería:\n",
        "\n",
        "```python\n",
        "from sklearn.cluster import KMeans\n",
        "K = 16\n",
        "\n",
        "# Definición del modelo\n",
        "# Se puede añadir verbose=1 para seguir la ejecución\n",
        "modeloKMeans = KMeans(n_clusters=K)\n",
        "\n",
        "# Ajuste del modelo\n",
        "# Nota que por ser clustering sòlo se entrena con 'X', no hay 'y'\n",
        "modeloKMeans.fit(X)\n",
        "\n",
        "# Los K centroides\n",
        "centroids = modeloKMeans.cluster_centers_\n",
        "\n",
        "# Indice de los centroides más cercanos a cada pixel\n",
        "idx = modeloKMeans.labels_\n",
        "```"
      ]
    },
    {
      "cell_type": "code",
      "metadata": {
        "id": "ktJ_7R-mmLFF"
      },
      "source": [],
      "execution_count": null,
      "outputs": []
    }
  ]
}